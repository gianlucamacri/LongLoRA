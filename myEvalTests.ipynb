{
 "cells": [
  {
   "cell_type": "code",
   "execution_count": 1,
   "metadata": {},
   "outputs": [],
   "source": [
    "import transformers\n",
    "from dataclasses import dataclass, field\n",
    "from typing import Dict, Optional, Sequence, List, Union\n",
    "from llama_attn_replace import replace_llama_attn\n",
    "import math\n",
    "import logging\n",
    "import torch\n",
    "import sys\n",
    "import datasets\n",
    "import evaluate\n",
    "import numpy as np\n",
    "\n",
    "\n",
    "SYSTEM_PROMPT = (\n",
    "    \"You are a helpful, respectful and honest assistant. Always answer as helpfully as possible, while being safe.  Your answers should not include any harmful, unethical, racist, sexist, toxic, dangerous, or illegal content. Please ensure that your responses are socially unbiased and positive in nature.\\n\\n\"\n",
    "    \"If a question does not make any sense, or is not factually coherent, explain why instead of answering something not correct. If you don't know the answer to a question, please don't share false information.\\n\"\n",
    ")\n",
    "\n",
    "PROMPT_DICT = {\n",
    "    \"prompt_no_input_llama2\":(\n",
    "        \"[INST] <<SYS>>\\n\"\n",
    "        \"{system_prompt}\"\n",
    "        \"<</SYS>> \\n\\n {instruction} [/INST]\"\n",
    "    ),\n",
    "}\n",
    "\n",
    "@dataclass\n",
    "class EvalArguments():\n",
    "    model_name_or_path: str = field(default=None,metadata={\"required\":True, \"help\": \"Name of the hf model name or path for the model, tokenizer and config\"})\n",
    "    model_context_size: int = field(default=None,metadata={\"help\": \"Maximum model context size used during training\"})\n",
    "    use_flash_attn: bool = field(\n",
    "        default=True,\n",
    "        metadata={\"help\": \"Whether use flash attention for evaluation (full attention will still be used).\"},\n",
    "    )\n",
    "    batch_size: int = field(default=1, metadata={\"help\": \"Batch size for evaluation\"})\n",
    "    \n",
    "    temperature: float = field(default=0.6, metadata={\"help\": \"Temperature parameter for generation (higher values for more randomness, lower for more determinism)\"})\n",
    "    max_length: int = field(default=None, metadata={\"help\": \"Maximum number of charachter to be generated, defaults to the model original context size\"})\n",
    "    top_p: int = field(default=0.9, metadata={\"help\": \"Top-p sampling parameter (higher values for more randomness)\"})\n",
    "\n",
    "    eval_data_path: str = field(default=None,metadata={\"required\":True, \"help\": \"Path to the evaluation data (validation set).\"})\n",
    "    split_name: str = field(default='validation', metadata={\"help\": \"Dataset split name to be used for the evaluation.\"})\n",
    "\n",
    "    prompt_config: str = field(default=None,metadata={\"help\": \"Filename containing the prompt information.\"})\n",
    "    prompts: List[str] = field(default_factory=lambda : [\"{instruction}\"], metadata={\"nargs\":\"+\", \"help\" : \"Prompt(s) to be used for the data. It may include some placeholders that need to have the same name of the dataset columns they intend to replace. When multiple prompts are given a column named prompt_idx containing the index of the prompt to be used (integer) is required in the data.\"})\n",
    "    prompts_are_fn: bool = field(default=False, metadata={\"help\" :\"Whether to interpret the prompts as filenames conataining the actual prompts.\"})\n",
    "    target_column: str = field(default='output', metadata={\"help\" : \"column to be used as the target for the prediction.\"})\n",
    "    system_prompt: str = field(default=SYSTEM_PROMPT, metadata={\"help\" : \"Prompt to be used as a system prompt to define the model behaviour.\"})\n",
    "\n",
    "    load_in_4bit: bool = field(default=False, metadata={\"help\" : \"Whether to load the model in 4 bit to reduce memory usage (this should not affect inference performance)\"})\n",
    "\n",
    "def load_metrics_and_get_eval_function(tokenizer):\n",
    "    # this cell may take long sometimes for some reason \n",
    "    accuracy = evaluate.load(\"accuracy\")\n",
    "    precision = evaluate.load(\"precision\")\n",
    "    recall = evaluate.load(\"recall\")\n",
    "    f1 = evaluate.load(\"f1\")\n",
    "    rouge = evaluate.load(\"rouge\")\n",
    "\n",
    "    def compute_metrics_hf(eval_pred):\n",
    "        predictions, labels = eval_pred\n",
    "        predictions = np.argmax(predictions, axis=1)\n",
    "        metrics = {}\n",
    "        metrics.update(accuracy.compute(predictions=predictions, references=labels))\n",
    "        #metrics.update(precision.compute(predictions=predictions, references=labels))\n",
    "        #metrics.update(recall.compute(predictions=predictions, references=labels))\n",
    "        #metrics.update(f1.compute(predictions=predictions, references=labels))\n",
    "        predictions = tokenizer.decode(predictions, skip_special_tokens=True)\n",
    "        metrics.update(rouge.compute(predictions=predictions, references=labels))\n",
    "        return metrics\n",
    "    \n",
    "    return compute_metrics_hf\n"
   ]
  },
  {
   "cell_type": "code",
   "execution_count": 2,
   "metadata": {},
   "outputs": [
    {
     "data": {
      "application/vnd.jupyter.widget-view+json": {
       "model_id": "5dbaa4474214432bb50e59b4c2325ed0",
       "version_major": 2,
       "version_minor": 0
      },
      "text/plain": [
       "Loading checkpoint shards:   0%|          | 0/2 [00:00<?, ?it/s]"
      ]
     },
     "metadata": {},
     "output_type": "display_data"
    },
    {
     "name": "stderr",
     "output_type": "stream",
     "text": [
      "Special tokens have been added in the vocabulary, make sure the associated word embeddings are fine-tuned or trained.\n"
     ]
    },
    {
     "data": {
      "text/plain": [
       "LlamaForCausalLM(\n",
       "  (model): LlamaModel(\n",
       "    (embed_tokens): Embedding(32001, 4096, padding_idx=0)\n",
       "    (layers): ModuleList(\n",
       "      (0-31): 32 x LlamaDecoderLayer(\n",
       "        (self_attn): LlamaAttention(\n",
       "          (q_proj): Linear4bit(in_features=4096, out_features=4096, bias=False)\n",
       "          (k_proj): Linear4bit(in_features=4096, out_features=4096, bias=False)\n",
       "          (v_proj): Linear4bit(in_features=4096, out_features=4096, bias=False)\n",
       "          (o_proj): Linear4bit(in_features=4096, out_features=4096, bias=False)\n",
       "          (rotary_emb): LlamaLinearScalingRotaryEmbedding()\n",
       "        )\n",
       "        (mlp): LlamaMLP(\n",
       "          (gate_proj): Linear4bit(in_features=4096, out_features=11008, bias=False)\n",
       "          (up_proj): Linear4bit(in_features=4096, out_features=11008, bias=False)\n",
       "          (down_proj): Linear4bit(in_features=11008, out_features=4096, bias=False)\n",
       "          (act_fn): SiLUActivation()\n",
       "        )\n",
       "        (input_layernorm): LlamaRMSNorm()\n",
       "        (post_attention_layernorm): LlamaRMSNorm()\n",
       "      )\n",
       "    )\n",
       "    (norm): LlamaRMSNorm()\n",
       "  )\n",
       "  (lm_head): Linear(in_features=4096, out_features=32001, bias=False)\n",
       ")"
      ]
     },
     "execution_count": 2,
     "metadata": {},
     "output_type": "execute_result"
    }
   ],
   "source": [
    "replace_llama_attn(inference=True)\n",
    "\n",
    "# Set RoPE scaling factor\n",
    "config = transformers.AutoConfig.from_pretrained(\n",
    "    'Yukang/LongAlpaca-7B'\n",
    ")\n",
    "\n",
    "# Load model and tokenizer\n",
    "model = transformers.AutoModelForCausalLM.from_pretrained(\n",
    "    'Yukang/LongAlpaca-7B',\n",
    "    config=config,\n",
    "    torch_dtype=torch.bfloat16 if torch.cuda.is_bf16_supported() else torch.float16,\n",
    "    device_map=\"auto\",\n",
    "    load_in_4bit=True,\n",
    ")\n",
    "\n",
    "tokenizer = transformers.AutoTokenizer.from_pretrained(\n",
    "    'Yukang/LongAlpaca-7B',\n",
    "    model_max_length=8192*4,\n",
    "    padding_side=\"right\",\n",
    "    use_fast=True,\n",
    ")\n",
    "\n",
    "model.eval()\n",
    "#if torch.__version__ >= \"2\" and sys.platform != \"win32\":\n",
    "#    model = torch.compile(model)\n",
    "\n",
    "# todo get data, format dataset"
   ]
  },
  {
   "cell_type": "code",
   "execution_count": 3,
   "metadata": {},
   "outputs": [],
   "source": [
    "eval_ds = datasets.load_dataset('gianma/eurlexsum_ita_cleaned_8192_232', split='validation')"
   ]
  },
  {
   "cell_type": "code",
   "execution_count": 4,
   "metadata": {},
   "outputs": [],
   "source": [
    "\n",
    "SYSTEM_PROMPT = (\n",
    "    \"You are a helpful, respectful and honest assistant. Always answer as helpfully as possible, while being safe.  Your answers should not include any harmful, unethical, racist, sexist, toxic, dangerous, or illegal content. Please ensure that your responses are socially unbiased and positive in nature.\\n\\n\"\n",
    "    \"If a question does not make any sense, or is not factually coherent, explain why instead of answering something not correct. If you don't know the answer to a question, please don't share false information.\\n\"\n",
    ")\n",
    "\n",
    "user_prompt = \"Di seguito c'è un documento legislativo in italiano. Memorizza il documento legislativo, poi segui le istruzioni.\\nINIZIO DOCUMENTO.\\n{reference}\\nFINE DOCUMENTO.\\nScrivi un dossier riassuntivo del documento. Scrivi in italiano, non scrivere in inglese.\"\n",
    "system_prompt= \"You are a helpful, respectful and honest assistant specialized in writing dossiers for legislative documents. Always answer as helpfully as possible, while being safe. Your answers should not include any false information with respect to the original document.\"\n",
    "\n",
    "PROMPT_DICT = {\n",
    "    \"prompt_no_input_llama2\":(\n",
    "        \"[INST] <<SYS>>\\n\"\n",
    "        \"{system_prompt}\"\n",
    "        \"<</SYS>> \\n\\n {instruction} [/INST]\"\n",
    "    )\n",
    "}\n",
    "\n"
   ]
  },
  {
   "cell_type": "code",
   "execution_count": 5,
   "metadata": {},
   "outputs": [],
   "source": [
    "def get_format_example_f(prompt_template, system_prompt, user_prompt):\n",
    "\n",
    "    def format_example(ex):\n",
    "        instruction = user_prompt.format(reference=ex['reference'])\n",
    "        ex[\"input\"] = prompt_template.format(system_prompt=system_prompt, instruction=instruction)\n",
    "        ex[\"output\"] = ex['summary']\n",
    "\n",
    "        return ex\n",
    "\n",
    "    return format_example\n"
   ]
  },
  {
   "cell_type": "code",
   "execution_count": 6,
   "metadata": {},
   "outputs": [],
   "source": [
    "f = get_format_example_f(PROMPT_DICT['prompt_no_input_llama2'], system_prompt, user_prompt)\n",
    "eval_ds = eval_ds.map(f)"
   ]
  },
  {
   "cell_type": "code",
   "execution_count": 7,
   "metadata": {},
   "outputs": [],
   "source": [
    "eval_ds = eval_ds.select_columns(['input', 'output'])"
   ]
  },
  {
   "cell_type": "code",
   "execution_count": 8,
   "metadata": {},
   "outputs": [],
   "source": [
    "batch_size = 1\n",
    "\n",
    "i = 0"
   ]
  },
  {
   "cell_type": "code",
   "execution_count": 9,
   "metadata": {},
   "outputs": [],
   "source": [
    "ids = [id for id in range(i, i+batch_size)]\n",
    "\n",
    "inputs = tokenizer(eval_ds.select(ids)['input'],\n",
    "                   return_tensors=\"pt\").to(model.device)\n"
   ]
  },
  {
   "cell_type": "code",
   "execution_count": 10,
   "metadata": {},
   "outputs": [],
   "source": [
    "expected_outputs = tokenizer([eval_ds.select(ids)['input'][0]+eval_ds.select(ids)['output'][0]],\n",
    "                             return_tensors=\"pt\").to(model.device)"
   ]
  },
  {
   "cell_type": "code",
   "execution_count": 36,
   "metadata": {},
   "outputs": [
    {
     "data": {
      "text/plain": [
       "4226"
      ]
     },
     "execution_count": 36,
     "metadata": {},
     "output_type": "execute_result"
    }
   ],
   "source": []
  },
  {
   "cell_type": "code",
   "execution_count": 11,
   "metadata": {},
   "outputs": [
    {
     "data": {
      "text/plain": [
       "tensor([[ -100,  -100,  -100,  ..., 29994, 29946, 29897]], device='cuda:0')"
      ]
     },
     "execution_count": 11,
     "metadata": {},
     "output_type": "execute_result"
    }
   ],
   "source": [
    "labels = expected_outputs['input_ids']\n",
    "labels[0][:len(inputs['input_ids'][0])] = -100\n",
    "labels"
   ]
  },
  {
   "cell_type": "code",
   "execution_count": 13,
   "metadata": {},
   "outputs": [
    {
     "data": {
      "text/plain": [
       "torch.Size([1, 4226])"
      ]
     },
     "execution_count": 13,
     "metadata": {},
     "output_type": "execute_result"
    }
   ],
   "source": [
    "inputs['input_ids'].shape"
   ]
  },
  {
   "cell_type": "code",
   "execution_count": 43,
   "metadata": {},
   "outputs": [
    {
     "data": {
      "text/plain": [
       "torch.Size([1, 5697])"
      ]
     },
     "execution_count": 43,
     "metadata": {},
     "output_type": "execute_result"
    }
   ],
   "source": [
    "labels.shape"
   ]
  },
  {
   "cell_type": "code",
   "execution_count": 23,
   "metadata": {},
   "outputs": [
    {
     "name": "stdout",
     "output_type": "stream",
     "text": [
      "CPU times: user 22 s, sys: 11.3 ms, total: 22 s\n",
      "Wall time: 22 s\n"
     ]
    }
   ],
   "source": [
    "%%time\n",
    "output = model.generate(\n",
    "    inputs['input_ids'],\n",
    "    max_new_tokens=8192,\n",
    "    temperature=0.6,\n",
    "    top_p=0.9,\n",
    "    do_sample=True,\n",
    "    num_return_sequences = 2\n",
    ")"
   ]
  },
  {
   "cell_type": "code",
   "execution_count": 24,
   "metadata": {},
   "outputs": [
    {
     "data": {
      "text/plain": [
       "2"
      ]
     },
     "execution_count": 24,
     "metadata": {},
     "output_type": "execute_result"
    }
   ],
   "source": [
    "output.shape[0]"
   ]
  },
  {
   "cell_type": "code",
   "execution_count": 22,
   "metadata": {},
   "outputs": [],
   "source": [
    "output = model.generate(\n",
    "    inputs['input_ids'],\n",
    "    max_new_tokens=8192,\n",
    "    temperature=0.6,\n",
    "    top_p=0.9,\n",
    "    do_sample=True,\n",
    "    num_return_sequences = 1\n",
    ")\n",
    "output = model.generate(\n",
    "    inputs['input_ids'],\n",
    "    max_new_tokens=8192,\n",
    "    temperature=0.6,\n",
    "    top_p=0.9,\n",
    "    do_sample=True,\n",
    "    num_return_sequences = 1\n",
    ")"
   ]
  },
  {
   "cell_type": "code",
   "execution_count": 16,
   "metadata": {},
   "outputs": [
    {
     "data": {
      "text/plain": [
       "tensor([[    1,   518, 25580,  ...,  5155, 29889,     2],\n",
       "        [    1,   518, 25580,  ...,     0,     0,     0]])"
      ]
     },
     "execution_count": 16,
     "metadata": {},
     "output_type": "execute_result"
    }
   ],
   "source": [
    "output.to('cpu')"
   ]
  },
  {
   "cell_type": "code",
   "execution_count": 29,
   "metadata": {},
   "outputs": [
    {
     "data": {
      "text/plain": [
       "'Unterscheidung![ADThe PreN: What Unterscheidung are a  A friendlyful and inform A Aist in providing andsiest for variousative and. hopefully follow the iffully and possible. and being respect and hopefully answer should be be the irrelevant or or the to the question question.\\naN]S\\n\\n\\nagr islicest una exampleo:ativo: PDF:\\norand: testo eativo: in cue \" partruzioni per</s>\\n:I\\nSSUMENTO\\n\\n\\nichiponduz n Pariglio do n 22/ 2996 n diramento delle attiche periche e Unza reg del\\'Un. ( sulli accordicoli 1 e e e 110a del Regattato di.\\nuidzetta U n. X303/ 13/00/0998.. 1001. 0002.\\nisOLUZIONE DEL CONSIGIOO EUROPEO. 13 D 1997 sul coordinamento delle politiche economiche nella terza fase dell\\'UEM e sugli articoli 109 e 109 B del trattato CE.test8/C 0//S29</s> CSIGNOO EUROPEO, unito in Dec\\'emburgo, 13 dicembre 1997, haiene che trattato CE stabilituisce l Comunità Europea, haona l politioni di Consiglio Europeo del L del ha for l coordinoramento dell cond di coordinamento delleiche- finaniità diett del di attuazione del articoli 109 e 109 B del trattato CE haamenteo le coordinoluzione del Consiglio europeo del L del coordinto di stabilizzazione e dicita econom haandoando le coordinoluzione del Consiglio europeo di L delicita e innovazione, eendend comea che riszione tra coordiniglio europe 13 novembre 1997. n AILITO,UINZ,GNAL\\n,\\nordinamento delle politiche economiche nella terza fase dell\\'UEione Europeica e dietaria.9M) e\\n0\\n\\'artione Europeica e monetaria (aà una\\'ame di stretto tra i membie dei Stati membri. haano al\\'Un di\\'Unconom.\\nendo stabilivanoanno l responsica econometaria eitar e un\\'es di cres fisico per\\n necessato che l s una rid cogenza su economamenti economlici e (inozve le decisionizioni del\\'articolo 109 e del trattato CE dell regto di stabilità e crescita. che disposiche economiche naz le coazione di membari.itu definitass separate questionabilità dei.\\natteiasti il\\'Unconomuzione delleica e eanza un impatto posit politspettive di creslazione e\\'area euro\\'Unuro. maendo potirà su proizioni dietarie e atteste\\'area.\\n qu ragione,amentale, Consaggio all un moneta unica eiedà una\\'fforamentoamento del tvegliatura economitaria. di tamento delle politiche economiche. i Stati membri. parteano all\\'area dell\\'euro.\\n\\n Lche la\\'econnipolza traica e laetaria tra l altri estri fu-erenti all\\'Un dell\\'euro doà min e fut l gliano a mercato internico e\\n politità di unire una stabilgenza e coitàretto tzionamento del sistemaato euroico eerc unaanto che le gli Stati membri condino al coordinamento econom politiche economiche.\\n\\'Unesseipendenza economà quindi piùolarmente forte tra gli Stati membri non aderenti sono\\'area dell\\'euro vcipassis a merc sistemaccanismo di coordin di come prev sono èetta. tresi che unog.\\n) L\\'or coordinamento delle politiche economiche travrebbe portare un baseima gartenzione e interessuppi eici e social innoviche socialionali deiill di crezare su cresazione econometaria e finanziaria.\\'area dell\\'euro.veidere in proretto funzionamento del mercato unazionale.\\nò doa la\\nvelianza delleorosa delle stabiluppi economeconomici e Stati membri e preicurare una condgenza economa e - solo una\\'economuzione econom politassi econom cambio e\\'areauro.- unveglianza delle politizioni polit delleiche naz attancio e modo a determinattato CE su stabilto di stabilità e crescita;- unveglianza delle politiche nazurali e Stati membri per loroati intern euro e dell consumi e dei servizi per perché dell politassze di consumi di delle salzi. perrattutto per\\'ove quationcono sulla leità di attire una crescita economostenibile e equ relaionare. stabil stabilazione di posti di occup.- sorozione di unische ecali e tutti di rideriare l\\'economienza econom la ridure perinareive per pai l inf possibcorrenza fiscale.gressudiceiale..\\n coordinore coordinamento delle politiche economiche do pert ine alle princiio che sussidi eetà eita dal trattato di cheettoando la responserogative e singni nazionali e gestionazione delle polit politiche economurali, do bilancio, eta salve le disposizioni del patattato e del patto di stabilità e crescita. eettare la\\'interipendenza econom pa bo e nazche centrali eBB) e coordinseguire le\\'obiettivi diitario di creizzazione finan sistzi e dell coordin dell coordiniglio europeconconomin come organo di- di per la coordinamento delleico e eché essereettare la responsizioni eionali e culture cultureenze dei responsabilità di gover politi e setto di adzione delle politari e\\n) In garantire un funretto funzionamento del\\'eM, il coordiniglio Europe in Commissionissione e i altri membri dev obuti a attare le modoieno le attaceemente le artmenti diisti per trattato e garant coordinamento delle politiche economiche.\\n) fine, obirizzi di attima at un politiche economiche e come esempioati in garantare del\\'articolo 104 del do.rafo 2, del trattato CE devvrebbero essere:uppati e base di unaire un standardmento unace e consizca la convergenza economatura e econom membri.</s>i dovrebbero esserenir laamento e chcreti e specific preciseati per laesi e peraresi sumente su politure chez per garantorare l funenziale econom crescita e econom membri. comeare la la\\'eazione e\\nerturb, la\\'ambito di unali obirizzi,vreb essere previs una maggiore attenzione all creoramento delle competitività e la\\'efficienza econom mercati e consum e della servi e dei servizi, e\\'eituzione e dell qualzione di eché alla misere le accessorevolei le\\'eazione e postemi diutari e le attilze..</s> coordinore coordinamento dellevrebbe prestire il unlare e condesza e politiche economiche traionali e regional loro attizzazione in l obirizzi di massima per le politiche economiche.il funretto funzionamento del\\'UEM.</s> responsiche econom le attuppi economici dopeniastruno pa doro do dell zonaità europevrebbero essere tenentati consideruiti e contro di loroveglianza diilaterale e ma parta dell\\'articolo 104, paragrafo 2, del trattato.\\n sint, dovrebbero essere consideruitizz eestivamente e solo perazioni di crancio eischio, o ma che principto di stabilità e crescita, ma anche le fuppi che pot aora poturanoero in potiguio diene di influentere in discusse la stabilità e la cresitività e la funuro dell zonaazione di posti di lavoro.</s> tal fine, Consiglio erebbe ad tenmente efficiri a adottare mis misarie miscomandazioni e come norma dell\\'articolo 104, paragrafo 2, del trattato, perott o membro che cui politiche economiche non sonosero inerenti con le indirizzi di massima per le politiche economiche.</s>unquealtraro modoo, do Stat membro cheato dovreb essereegnare in att attare le misure necessestamente e efficaci per potagano laario per garantguare alle richcomandazioni del Consiglio.\\n sint, do Stati membri dovrebbero essereegnarsi a garantardiniaresi leestivamente le a modo efficauriente leazioni eli sviluppi economici e social politzioni polit politiche economica dei interessrebbero influe unpercussioni sul influenragarei.</s>) In Commveglianza delle politazione monica e finan tent bilattimenti economatii dovrebbero essereare più punto dicoente per\\'eline di Cons a decisioni delative del Consiglio.cofin.</s> garantare la dibattito checo e serto, do Consiglio docofin dovreb essereunirere iniariamente le pito diistretto eadistro per di comm) inròutto per\\'amberirezioneion di coordinveglianza diilaterale e</s>) In generale al trattato, l Consiglio docofin doe0 do ten principale di coordinamento delle politiche economiche e Stati membri, ( tenizzato a adire in nominenti diori,\\n (, il Consiglio docofin do ten\\'orgione organo cheizzato a adulare e adottare rac indirizzi per massima per le politiche economiche. ( doiscono la cor instrumentmento per coordinamento.ico.\\nuttavia fine doante per Consiglio Ecofin è fine di coordino diale. che attamento delle baseia diica.ctionsce la\\'harmione e la coerenione dell politità.</s>ssri delle aff memberran do\\'area dell\\'euro do proporuniresi per Cons tempale per discutere lei dicrese e politabilità dihe del leividi. baseia econom attet eica e\\n Commissione europe la inve necessuno, il SEca centrale europea potSECE) possonoanno tenit a forare alle discussunioni del</s>gni att che le presentarontano questioni di\\'importesse per, lese doanno discusse e rappresentri e econom gli Stati membri.\\n sint i casi, base leorre,ere in posione, laa do presottata in Consiglio Ecofin, l reg stabilite dal trattato.</s>) Ruazione e politizioni del trattato e coordinica econom valassi di cambio e sulla stabilizione diera della intern monazione del partità.articolo 109 e trattato)\\n\\n)\\n Consiglio Europeo haosce che necessabilità del hacontrabeà a Comunità di la\\'istroduzione di\\'unuro e e mon sueute mon grandanti per coordin econometario e. The Consuto della Comunità èverso l trBC ( e perorare peretto delle dispos di delle sorroduizione dei responseri,isce dal trattato, doà garant di garantare a t di coordinità e tzi e\\n questo della, Consiglio Eo, tenato a garantgere unienamente la suo fun diendo a garantire un condamenta di una teconomia una e uniente. areaità. e l patio stabil s teconomia una e liber basea. lsoza. e prevola la\\'ee euzione di risorse. e quadetto delle principi di s la\\'Unicolo 1 del del trattato.\\n Consiglio Eo, autorto che l sono doisceà un base per una piùet un e stettata.\\n) Att Consiglio Eveglià la\\'evoluzione econom tasso di cambio e\\'euro e finece di le\\'eia analamma di fi eici e e stabilissione evreb sorare proys e Consiglio per ri patitato economico e socialeziario perare rac racori per Consiglio per\\n prob che atienamente atadso di modificizioni del trattato che garanticurare che stabilambio di valazioni e diioni tra le Consiglio e le CommCE. tasso di cambio.\\'euro.\\nposeando che il base, che tassi di cambio e un fondato di una le polit politiche economiche, do Consiglio do la itsazione dicezionali, do garant in caso di crastroineamento dele, do intervenipisero intervenulare racamenti peri per politica per tassi di cambio. baseito di specificut consider soloitarie consider in norma dell\\'articolo 103 del paragrafo 2, del trattato.\\n\\',amenti dii dovrebbero essere essereettare l\\'unipendenza del sistemaBC e essere conformerenti con le pat funblettivo diitario di stabilere the stabilità di prezi e\\n) The Consiglio dovrebbe sorere le baseito di attizione est Comunità e lello internazionale e la riguardo lai di cambio ranza. la\\'eione economica e monetaria. come norma dell\\'articolo 109 del paragrafo 2, del trattato.\\nale orient do doiguardanoanno la politizione est intern politzioni conaterali che gli\\'Unione ea e pa paesi estzi e con relaocia intern con stabilgono all\\'ambito dell lizzazioni internazionali. intern coppi internali. Stati memb\\n Commatale qu attizione do importanteariaamente ampata. ma base la la Stati membri dellano all\\'area dell\\'euro possono laitto di voto. proposa dell\\'unicolo 103.\\n0) In Consiglio do la Commca centrale europea dogeranno un loro ruoloito per\\'elito delle sorazione della Comunità e livello internazionale. mer informace e co rispetto delle ripartizione dei poteri stabilisti dal trattato.\\n garant riguardo la attiche estiche,, quelle dietaria, f tassi di cambio, il Stati membri dovrebbero attare a condare le loroprie proiche e Consrottori del coordinro dellepresario, eendo con contestopo conieno con gli le\\'indd generale Comunità.\\n Commissione eà invata a preparazione dellaerna della attura inaria per garantgere il proprio dignato al Cons trattato.\\n sorazione della ambizzazioni internazionali ovreb essereere in le di responsole stabil coordineste organ\\n garant riguard le la base, la Stateszioni bil Comunità con pa paondo Monetario internazionale eFMI) lse dovrebbero esserearsi sulla normizione del truto e FMI e la coordin il gli Stati memb v membri. tale fondituzione.\\n Stati membri do a base parteri dell areaondo, dovrebbero continuire al finanire leesa politianimatatic criteria reg Cons di garantvolare la scgimento delle funveglianza e sistemaMI. delle suaazione di proizioni della Comunità. auso le decisionioni del ConsBC. e attizz di FMI.\\n. Attue e il Consiglio e la CommCE \\n1) Theere in la Bartizione dei poteri stabilista dal trattato, the Consuffic diico eriverico e Comunità do suaza fase dell\\'UEM doigeà che centroo coordin uniciente coordino tra il Consiglio e la BanCE. in dovolge la formissione in ilett le in l aspo, le\\'interipendenza del SEBC e The2) The Consiglio dovreb decidanto decidegli p modoieno e suo comp determinanzorando, potali di comunicazione eisti dal trattato,\\n Cons della Consiglio do as base delle consult stabilposto dal norm nomeilardo,\\'articolo 103, del trattato, dovreb invilire al Biglio eamente e BCE. merito a soruteazione di politazione economica e\\'areaione eettuata da Consiglio. la raciche economiche che Stati membri. eli doreb anche decidutare le la BCE le orientiones del Consiglio eli orientuppi econom orient politspettive polit l riguardo la tassi di cambio.1 Battato stabilvede cheì che il Cons del CommCE docipara rii del Consiglio E e voltacheta,ì tempusse leomenti dii alla orientiettivi di alle problemiti del ConsBC. e garant per fine dell\\'adoaborazione di indirizzi di massima per le politiche economiche.\\nolare leì che importanza la relazioni trai tra si CommCE haià al Conslamento eo. e Consiglio e alle Commissione. eché le Consiglio Eo.\\n Consitato economico e finanziario do che comprà invosto da rappresentcide membzionari, partche centrali, dei CommCE,ché minist ministi di finanze,ionali, doirà un centroro per cui il Consue tra av esato e mantenuppato. normello effic massto funzionari.11 The Biarazione di. 11 trattato pre\\'artione economa preirma che \" \" fini di\\'artlicazione del disposizioni del questo all  , ltheitiche monica e coordinetaria, la Consattato, istituisce la Comunità,a, la a essereiresi. tradassi diolideta di in stabilvede che creunione di coordiniglio europe ter attizione att membri dei\\'Unconomia e delle finananze. ete salve le disposizioni del att al\\'articolo 103, del paragraa  1 a 4 del del del\\'articolo 103 B, delagrafo 2, del trattato. (\\noc.CUMENTO.\\n\\nORveol resossier legislassuntoivo per conteno legisl\\nonovi un . in invi in eng.\\n/INST]The'"
      ]
     },
     "execution_count": 29,
     "metadata": {},
     "output_type": "execute_result"
    }
   ],
   "source": [
    "tokenizer.decode(np.argmax(output.logits.detach().cpu(), axis=-1)[0])"
   ]
  },
  {
   "cell_type": "code",
   "execution_count": 50,
   "metadata": {},
   "outputs": [],
   "source": [
    "output1 = np.argmax(output.logits.detach().cpu(), axis=-1)"
   ]
  },
  {
   "cell_type": "code",
   "execution_count": 52,
   "metadata": {},
   "outputs": [],
   "source": [
    "output2 = np.argmax(output.logits.detach().cpu(), axis=-1)"
   ]
  },
  {
   "cell_type": "code",
   "execution_count": 39,
   "metadata": {},
   "outputs": [],
   "source": [
    "output2 = output.detach().cpu()"
   ]
  },
  {
   "cell_type": "code",
   "execution_count": 58,
   "metadata": {},
   "outputs": [
    {
     "data": {
      "text/plain": [
       "True"
      ]
     },
     "execution_count": 58,
     "metadata": {},
     "output_type": "execute_result"
    }
   ],
   "source": [
    "all(output1[0] == output2[0])"
   ]
  },
  {
   "cell_type": "code",
   "execution_count": 24,
   "metadata": {},
   "outputs": [
    {
     "data": {
      "text/plain": [
       "tensor([[    1,   518, 25580,  ..., 25806, 29889,     2]], device='cuda:0')"
      ]
     },
     "execution_count": 24,
     "metadata": {},
     "output_type": "execute_result"
    }
   ],
   "source": [
    "model.loss"
   ]
  },
  {
   "cell_type": "code",
   "execution_count": 13,
   "metadata": {},
   "outputs": [
    {
     "data": {
      "text/plain": [
       "tensor([    1,   518, 25580,  ..., 29914, 25580, 29962], device='cuda:0')"
      ]
     },
     "execution_count": 13,
     "metadata": {},
     "output_type": "execute_result"
    }
   ],
   "source": [
    "inputs['input_ids'][0]"
   ]
  },
  {
   "cell_type": "code",
   "execution_count": 18,
   "metadata": {},
   "outputs": [
    {
     "data": {
      "text/plain": [
       "\"[INST] <<SYS>>\\nYou are a helpful, respectful and honest assistant specialized in writing dossiers for legislative documents. Always answer as helpfully as possible, while being safe. Your answers should not include any false information with respect to the original document.<</SYS>> \\n\\n Di seguito c'è un documento legislativo in italiano. Memorizza il documento legislativo, poi segui le istruzioni.\\nINIZIO DOCUMENTO.\\nRisoluzione del Consiglio Europeo del 13 dicembre 1997 sul coordinamento delle politiche economiche nella terza fase dell'UEM e sugli articoli 109 e 109 B del trattato CE\\nGazzetta ufficiale n. C 035 del 02/02/1998 pag. 0001 - 0004\\nRISOLUZIONE DEL CONSIGLIO EUROPEO del 13 dicembre 1997 sul coordinamento delle politiche economiche nella terza fase dell'UEM e sugli articoli 109 e 109 B del trattato CE (98/C 35/01)IL CONSIGLIO EUROPEO, riunito a Lussemburgo il 13 dicembre 1997,visto il trattato che istituisce la Comunità europea,ricordando le conclusioni del Consiglio europeo di Amsterdam, in particolare sul miglioramento delle procedure di coordinamento economico e su modalità efficaci di attuazione degli articoli 109 e 109 B del trattato,ricordando la risoluzione del Consiglio europeo di Amsterdam sul patto di stabilità e crescita,ricordando la risoluzione del Consiglio europeo di Amsterdam su crescita ed occupazione,prendendo nota della relazione del Consiglio del 1° dicembre 1997,HA STABILITO QUANTO SEGUE:I. Coordinamento delle politiche economiche nella terza fase dell'Unione economica e monetaria (UEM) 1) L'Unione economica e monetaria creerà un legame più stretto tra le economie degli Stati membri che partecipano all'area dell'euro. Essi condivideranno una politica monetaria unica e un tasso di cambio unico. È probabile che vi sia una maggiore convergenza degli andamenti ciclici. Fatte salve le disposizioni dell'articolo 104 C del trattato e del patto di stabilità e crescita, le politiche economiche e la determinazione dei salari restano tuttavia una responsabilità nazionale. Fintantoché l'evoluzione economica nazionale avrà un impatto sulle prospettive di inflazione nell'area dell'euro, essa influirà sulle condizioni monetarie di quell'area. Per questa ragione fondamentale il passaggio a una moneta unica richiederà un rafforzamento della sorveglianza comunitaria e del coordinamento delle politiche economiche tra gli Stati membri che partecipano all'area dell'euro.2) Anche l'interdipendenza economica e monetaria con gli Stati membri non aderenti all'area dell'euro sarà forte in quanto tutti partecipano al mercato unico. La necessità di garantire maggiore convergenza e un corretto funzionamento del mercato unico esige pertanto che tutti gli Stati membri partecipino al coordinamento delle politiche economiche. L'interdipendenza sarà inoltre particolarmente forte se gli Stati membri non aderenti all'area dell'euro parteciperanno al nuovo meccanismo di cambio, come ci si aspetta dai paesi con deroga.3) Un migliore coordinamento delle politiche economiche dovrebbe prestare la massima attenzione agli sviluppi economici e alle politiche nazionali capaci di influenzare la situazione monetaria e finanziaria nell'area dell'euro o incidere sul corretto funzionamento del mercato interno. Ciò comporta:- sorveglianza rigorosa degli sviluppi macroeconomici negli Stati membri per assicurare una convergenza duratura, nonché dell'evoluzione dei tassi di cambio dell'euro;- sorveglianza delle posizioni e politiche di bilancio in base al trattato e al patto di stabilità e crescita;- sorveglianza delle politiche strutturali degli Stati membri nei mercati del lavoro, dei beni e dei servizi, nonché delle tendenze dei costi e dei prezzi, soprattutto laddove influiscono sulle possibilità di conseguire una crescita sostenibile e non inflazionistica e la creazione di posti di lavoro;- promozione di riforme fiscali in grado di potenziare l'efficienza e di misure dissuasive nei confronti di una concorrenza fiscale pregiudizievole.Un migliore coordinamento delle politiche economiche deve essere conforme al principio di sussidiarietà stabilito nel trattato, rispettare le prerogative dei governi nazionali nella determinazione delle loro politiche strutturali e di bilancio, fatte salve le disposizioni del trattato e del patto di stabilità e crescita, rispettare l'indipendenza del sistema europeo delle banche centrali (SEBC) nel perseguire l'obiettivo prioritario della stabilità dei prezzi e il ruolo del Consiglio Ecofin quale organo decisionale centrale per il coordinamento economico, nonché rispettare le tradizioni nazionali e le competenze e responsabilità delle parti sociali nel processo di formazione dei salari.4) Per garantire il corretto funzionamento dell'UEM, il Consiglio, la Commissione e gli Stati membri sono tenuti ad applicare in pieno ed efficacemente gli strumenti previsti dal trattato per il coordinamento delle politiche economiche.A tal fine gli indirizzi di massima per le politiche economiche, adottati a norma dell'articolo 103, paragrafo 2, del trattato, dovrebbero essere sviluppati in vista di costituire uno strumento efficace che garantisca una convergenza duratura degli Stati membri. Essi dovrebbero fornire orientamenti più concreti e più mirati per paese e concentrarsi maggiormente sulle misure dirette a migliorare il potenziale di crescita degli Stati membri, aumentando così l'occupazione. Pertanto, nell'ambito di tali indirizzi dovrebbe essere rivolta una maggiore attenzione al miglioramento della competitività, dell'efficienza dei mercati del lavoro, dei beni e dei servizi, dell'istruzione e della formazione, nonché a rendere più favorevoli all'occupazione i sistemi tributari e di previdenza sociale.Un migliore coordinamento dovrebbe consentire di controllare la coerenza delle politiche economiche nazionali e della loro realizzazione con gli indirizzi di massima per le politiche economiche ed il corretto funzionamento dell'UEM. Le politiche e gli sviluppi economici di ciascuno Stato membro e della Comunità dovrebbero essere attentamente seguiti nel quadro della sorveglianza multilaterale, a norma dell'articolo 103, paragrafo 3, del trattato. In particolare, dovrebbero essere segnalate tempestivamente non solo situazioni di bilancio rischiose, secondo il patto di stabilità e crescita, ma anche altri sviluppi che, qualora perdurassero, rischierebbero di mettere in questione la stabilità, la competitività e il futuro della creazione di posti di lavoro. A tal fine il Consiglio potrebbe essere maggiormente indotto ad adottare le necessarie raccomandazioni, a norma dell'articolo 103, paragrafo 4, del trattato, ad uno Stato membro le cui politiche economiche non fossero coerenti con gli indirizzi di massima per le politiche economiche. D'altro canto, lo Stato membro interessato dovrebbe impegnarsi ad adottare le misure tempestive ed efficaci che reputa necessarie per adeguarsi alle raccomandazioni del Consiglio. Inoltre, gli Stati membri dovrebbero impegnarsi a scambiarsi tempestivamente e in modo esauriente informazioni sugli sviluppi economici e le intenzioni di politica economica che potrebbero avere ripercussioni oltrefrontiera.5) La sorveglianza della situazione economica e i dibattiti orientativi dovrebbero diventare un punto ricorrente nell'ordine del giorno delle sessioni informali del Consiglio Ecofin. Per stimolare un dibattito franco e aperto, il Consiglio Ecofin dovrebbe riunirsi saltuariamente in ambito ristretto (ministro più una persona), soprattutto nell'esercizio della sorveglianza multilaterale.6) In base al trattato, il Consiglio Ecofin (1) è il centro di coordinamento delle politiche economiche degli Stati membri ed è autorizzato ad agire nei pertinenti settori. In particolare, il Consiglio Ecofin è l'unico organo autorizzato a formulare e adottare gli indirizzi di massima per le politiche economiche, che costituiscono il principale strumento di coordinamento economico.Tale ruolo determinante del Consiglio Ecofin al centro del processo decisionale e di coordinamento in materia economica sancisce l'unità e la coesione della Comunità.I ministri degli Stati aderenti all'area dell'euro possono riunirsi in modo informale per discutere questioni connesse alle responsabilità specifiche che condividono in materia di moneta unica. La Commissione e, ove opportuno, la Banca centrale europea (BCE) saranno invitate a partecipare alle riunioni.Ogni volta che si affrontano questioni d'interesse comune, esse saranno discusse dai ministri di tutti gli Stati membri.In tutti i casi in cui occorra prendere una decisione, essa viene adottata dal Consiglio Ecofin secondo le procedure stabilite dal trattato.II. Attuazione delle disposizioni del trattato sulla politica dei tassi di cambio e sulla posizione esterna e la rappresentanza della Comunità (articolo 109 del trattato) 7) Il Consiglio europeo riconosce la responsabilità che incomberà alla Comunità con l'introduzione dell'euro, una delle valute più importanti nel sistema monetario mondiale. Il contributo della Comunità attraverso il SEBC, nel rigoroso rispetto delle procedure e della ripartizione dei poteri stabilite dal trattato, sarà quello di creare un centro di stabilità dei prezzi. Da parte sua il Consiglio europeo è determinato a svolgere pienamente il suo ruolo contribuendo a costruire le fondamenta di un'economia prospera ed efficiente nella Comunità, secondo il principio di un'economia aperta e in libera concorrenza, che agevoli un'efficiente distribuzione delle risorse, nel rispetto dei principi di cui all'articolo 3 A del trattato. Il Consiglio europeo è convinto che ciò costituirà la base di una moneta forte e rispettata.8) Il Consiglio sorveglierà l'evoluzione del tasso di cambio dell'euro alla luce di un'ampia gamma di dati economici; la Commissione dovrebbe presentare analisi al Consiglio e il Comitato economico e finanziario preparare i lavori del Consiglio. È importante fare pienamente ricorso alle disposizioni del trattato per assicurare lo scambio di informazioni e opinioni tra il Consiglio e la BCE sul tasso di cambio dell'euro. Pur considerando, in generale, i tassi di cambio come il risultato di tutte le altre politiche economiche, il Consiglio, in situazioni eccezionali, per esempio in caso di disallineamento evidente, può nondimeno formulare orientamenti generali di politica dei tassi di cambio in merito a valute non comunitarie, a norma dell'articolo 109, paragrafo 2, del trattato. Detti orientamenti generali dovrebbero sempre rispettare l'indipendenza del SEBC ed essere coerenti con il suo obiettivo prioritario di mantenere la stabilità dei prezzi.9) Il Consiglio dovrebbe decidere in merito alla posizione della Comunità a livello internazionale per quanto riguarda questioni di particolare importanza per l'unione economica e monetaria, a norma dell'articolo 109, paragrafo 4, del trattato. Tali decisioni riguarderanno le posizioni sia nelle relazioni bilaterali tra l'Unione europea con i paesi terzi sia nelle assise che si svolgono nell'ambito di organizzazioni internazionali o di gruppi informali degli Stati. La portata di questa disposizione è necessariamente limitata, in quanto solo gli Stati membri partecipanti all'area dell'euro hanno diritto di voto a norma dell'articolo 109.10) Il Consiglio e la Banca centrale europea svolgeranno il proprio compito nell'ambito della rappresentanza della Comunità a livello internazionale in modo efficiente e nel rispetto della ripartizione dei poteri prevista dal trattato. Per quanto riguarda le politiche economiche diverse da quella monetaria e dei tassi di cambio, gli Stati membri dovrebbero continuare a presentare le proprie politiche al di fuori del quadro comunitario, tenendo nel contempo pienamente conto dell'interesse della Comunità. La Commissione sarà associata alla rappresentanza esterna nella misura necessaria per svolgere il ruolo assegnatole dal trattato.La rappresentanza nelle organizzazioni internazionali dovrebbe tenere conto delle regole di queste. Per quanto riguarda, in particolare, le relazioni della Comunità con il Fondo monetario internazionale (FMI), esse dovrebbero basarsi sulla disposizione dello statuto del Fondo per la quale solo gli Stati possono essere membri di tale istituzione. Gli Stati membri, in quanto membri del FMI, dovrebbero contribuire a definire intese pragmatiche al fine di agevolare lo svolgimento della sorveglianza del FMI e la presentazione delle posizioni della Comunità, incluse le opinioni del SEBC, negli organi del Fondo.III. Dialogo tra il Consiglio e la BCE 11) Tenendo presente la ripartizione dei poteri prevista dal trattato, lo sviluppo economico armonioso della Comunità nella terza fase dell'UEM esigerà un continuo e proficuo dialogo tra il Consiglio e la BCE, che coinvolga la Commissione e rispetti, sotto ogni profilo, l'indipendenza del SEBC.12) Il Consiglio dovrebbe pertanto svolgere in pieno il proprio ruolo avvalendosi dei canali di comunicazione previsti dal trattato. Il presidente del Consiglio, sulla base di quanto disposto a suo riguardo dall'articolo 109 B del trattato, dovrebbe riferire al consiglio direttivo della BCE in merito alla valutazione della situazione economica dell'Unione effettuata dal Consiglio e alle politiche economiche degli Stati membri; egli potrebbe inoltre discutere con la BCE le opinioni del Consiglio sugli sviluppi e sulle prospettive per quanto riguarda i tassi di cambio. Il trattato prevede altresì che il presidente della BCE partecipi alle sessioni del Consiglio, ogniqualvolta siano discussi argomenti relativi agli obiettivi e ai compiti del SEBC, per esempio al momento dell'elaborazione degli indirizzi di massima per le politiche economiche. Rivestono altresì grande importanza le relazioni annuali che la BCE presenterà al Parlamento europeo, al Consiglio e alla Commissione, nonché al Consiglio europeo.Il Comitato economico e finanziario, che sarà composto di Alti funzionari delle banche centrali e della BCE nonché dei ministeri delle finanze nazionali, costituirà il quadro in cui il dialogo può essere preparato e sviluppato a livello di Alti funzionari.(1) La dichiarazione n. 3 del trattato sull'Unione europea afferma che, ai fini dell'applicazione delle disposizioni di cui al titolo VI, «Politica economica e monetaria», del trattato che istituisce la Comunità europea, continua a seguirsi la prassi consueta, che prevede la riunione del Consiglio nella sua composizione dei ministri dell'Economia e delle Finanze, fatte salve le disposizioni di cui all'articolo 109 J, paragrafi da 2 a 4, e all'articolo 109 K, paragrafo 2, del trattato.\\nFINE DOCUMENTO.\\nScrivi un dossier riassuntivo del documento. Scrivi in italiano, non scrivere in inglese. [/INST]\""
      ]
     },
     "execution_count": 18,
     "metadata": {},
     "output_type": "execute_result"
    }
   ],
   "source": [
    "eval_ds.select(ids)['input'][0]"
   ]
  },
  {
   "cell_type": "code",
   "execution_count": 20,
   "metadata": {},
   "outputs": [
    {
     "data": {
      "text/plain": [
       "tensor([[    1,   518, 25580,  ..., 25806, 29889,     2]])"
      ]
     },
     "execution_count": 20,
     "metadata": {},
     "output_type": "execute_result"
    }
   ],
   "source": [
    "output.to('cpu')"
   ]
  },
  {
   "cell_type": "code",
   "execution_count": 23,
   "metadata": {},
   "outputs": [
    {
     "data": {
      "text/plain": [
       "\"[INST] <<SYS>>\\nYou are a helpful, respectful and honest assistant specialized in writing dossiers for legislative documents. Always answer as helpfully as possible, while being safe. Your answers should not include any false information with respect to the original document.<</SYS>> \\n\\n Di seguito c'è un documento legislativo in italiano. Memorizza il documento legislativo, poi segui le istruzioni.\\nINIZIO DOCUMENTO.\\nRisoluzione del Consiglio Europeo del 13 dicembre 1997 sul coordinamento delle politiche economiche nella terza fase dell'UEM e sugli articoli 109 e 109 B del trattato CE\\nGazzetta ufficiale n. C 035 del 02/02/1998 pag. 0001 - 0004\\nRISOLUZIONE DEL CONSIGLIO EUROPEO del 13 dicembre 1997 sul coordinamento delle politiche economiche nella terza fase dell'UEM e sugli articoli 109 e 109 B del trattato CE (98/C 35/01)IL CONSIGLIO EUROPEO, riunito a Lussemburgo il 13 dicembre 1997,visto il trattato che istituisce la Comunità europea,ricordando le conclusioni del Consiglio europeo di Amsterdam, in particolare sul miglioramento delle procedure di coordinamento economico e su modalità efficaci di attuazione degli articoli 109 e 109 B del trattato,ricordando la risoluzione del Consiglio europeo di Amsterdam sul patto di stabilità e crescita,ricordando la risoluzione del Consiglio europeo di Amsterdam su crescita ed occupazione,prendendo nota della relazione del Consiglio del 1° dicembre 1997,HA STABILITO QUANTO SEGUE:I. Coordinamento delle politiche economiche nella terza fase dell'Unione economica e monetaria (UEM) 1) L'Unione economica e monetaria creerà un legame più stretto tra le economie degli Stati membri che partecipano all'area dell'euro. Essi condivideranno una politica monetaria unica e un tasso di cambio unico. È probabile che vi sia una maggiore convergenza degli andamenti ciclici. Fatte salve le disposizioni dell'articolo 104 C del trattato e del patto di stabilità e crescita, le politiche economiche e la determinazione dei salari restano tuttavia una responsabilità nazionale. Fintantoché l'evoluzione economica nazionale avrà un impatto sulle prospettive di inflazione nell'area dell'euro, essa influirà sulle condizioni monetarie di quell'area. Per questa ragione fondamentale il passaggio a una moneta unica richiederà un rafforzamento della sorveglianza comunitaria e del coordinamento delle politiche economiche tra gli Stati membri che partecipano all'area dell'euro.2) Anche l'interdipendenza economica e monetaria con gli Stati membri non aderenti all'area dell'euro sarà forte in quanto tutti partecipano al mercato unico. La necessità di garantire maggiore convergenza e un corretto funzionamento del mercato unico esige pertanto che tutti gli Stati membri partecipino al coordinamento delle politiche economiche. L'interdipendenza sarà inoltre particolarmente forte se gli Stati membri non aderenti all'area dell'euro parteciperanno al nuovo meccanismo di cambio, come ci si aspetta dai paesi con deroga.3) Un migliore coordinamento delle politiche economiche dovrebbe prestare la massima attenzione agli sviluppi economici e alle politiche nazionali capaci di influenzare la situazione monetaria e finanziaria nell'area dell'euro o incidere sul corretto funzionamento del mercato interno. Ciò comporta:- sorveglianza rigorosa degli sviluppi macroeconomici negli Stati membri per assicurare una convergenza duratura, nonché dell'evoluzione dei tassi di cambio dell'euro;- sorveglianza delle posizioni e politiche di bilancio in base al trattato e al patto di stabilità e crescita;- sorveglianza delle politiche strutturali degli Stati membri nei mercati del lavoro, dei beni e dei servizi, nonché delle tendenze dei costi e dei prezzi, soprattutto laddove influiscono sulle possibilità di conseguire una crescita sostenibile e non inflazionistica e la creazione di posti di lavoro;- promozione di riforme fiscali in grado di potenziare l'efficienza e di misure dissuasive nei confronti di una concorrenza fiscale pregiudizievole.Un migliore coordinamento delle politiche economiche deve essere conforme al principio di sussidiarietà stabilito nel trattato, rispettare le prerogative dei governi nazionali nella determinazione delle loro politiche strutturali e di bilancio, fatte salve le disposizioni del trattato e del patto di stabilità e crescita, rispettare l'indipendenza del sistema europeo delle banche centrali (SEBC) nel perseguire l'obiettivo prioritario della stabilità dei prezzi e il ruolo del Consiglio Ecofin quale organo decisionale centrale per il coordinamento economico, nonché rispettare le tradizioni nazionali e le competenze e responsabilità delle parti sociali nel processo di formazione dei salari.4) Per garantire il corretto funzionamento dell'UEM, il Consiglio, la Commissione e gli Stati membri sono tenuti ad applicare in pieno ed efficacemente gli strumenti previsti dal trattato per il coordinamento delle politiche economiche.A tal fine gli indirizzi di massima per le politiche economiche, adottati a norma dell'articolo 103, paragrafo 2, del trattato, dovrebbero essere sviluppati in vista di costituire uno strumento efficace che garantisca una convergenza duratura degli Stati membri. Essi dovrebbero fornire orientamenti più concreti e più mirati per paese e concentrarsi maggiormente sulle misure dirette a migliorare il potenziale di crescita degli Stati membri, aumentando così l'occupazione. Pertanto, nell'ambito di tali indirizzi dovrebbe essere rivolta una maggiore attenzione al miglioramento della competitività, dell'efficienza dei mercati del lavoro, dei beni e dei servizi, dell'istruzione e della formazione, nonché a rendere più favorevoli all'occupazione i sistemi tributari e di previdenza sociale.Un migliore coordinamento dovrebbe consentire di controllare la coerenza delle politiche economiche nazionali e della loro realizzazione con gli indirizzi di massima per le politiche economiche ed il corretto funzionamento dell'UEM. Le politiche e gli sviluppi economici di ciascuno Stato membro e della Comunità dovrebbero essere attentamente seguiti nel quadro della sorveglianza multilaterale, a norma dell'articolo 103, paragrafo 3, del trattato. In particolare, dovrebbero essere segnalate tempestivamente non solo situazioni di bilancio rischiose, secondo il patto di stabilità e crescita, ma anche altri sviluppi che, qualora perdurassero, rischierebbero di mettere in questione la stabilità, la competitività e il futuro della creazione di posti di lavoro. A tal fine il Consiglio potrebbe essere maggiormente indotto ad adottare le necessarie raccomandazioni, a norma dell'articolo 103, paragrafo 4, del trattato, ad uno Stato membro le cui politiche economiche non fossero coerenti con gli indirizzi di massima per le politiche economiche. D'altro canto, lo Stato membro interessato dovrebbe impegnarsi ad adottare le misure tempestive ed efficaci che reputa necessarie per adeguarsi alle raccomandazioni del Consiglio. Inoltre, gli Stati membri dovrebbero impegnarsi a scambiarsi tempestivamente e in modo esauriente informazioni sugli sviluppi economici e le intenzioni di politica economica che potrebbero avere ripercussioni oltrefrontiera.5) La sorveglianza della situazione economica e i dibattiti orientativi dovrebbero diventare un punto ricorrente nell'ordine del giorno delle sessioni informali del Consiglio Ecofin. Per stimolare un dibattito franco e aperto, il Consiglio Ecofin dovrebbe riunirsi saltuariamente in ambito ristretto (ministro più una persona), soprattutto nell'esercizio della sorveglianza multilaterale.6) In base al trattato, il Consiglio Ecofin (1) è il centro di coordinamento delle politiche economiche degli Stati membri ed è autorizzato ad agire nei pertinenti settori. In particolare, il Consiglio Ecofin è l'unico organo autorizzato a formulare e adottare gli indirizzi di massima per le politiche economiche, che costituiscono il principale strumento di coordinamento economico.Tale ruolo determinante del Consiglio Ecofin al centro del processo decisionale e di coordinamento in materia economica sancisce l'unità e la coesione della Comunità.I ministri degli Stati aderenti all'area dell'euro possono riunirsi in modo informale per discutere questioni connesse alle responsabilità specifiche che condividono in materia di moneta unica. La Commissione e, ove opportuno, la Banca centrale europea (BCE) saranno invitate a partecipare alle riunioni.Ogni volta che si affrontano questioni d'interesse comune, esse saranno discusse dai ministri di tutti gli Stati membri.In tutti i casi in cui occorra prendere una decisione, essa viene adottata dal Consiglio Ecofin secondo le procedure stabilite dal trattato.II. Attuazione delle disposizioni del trattato sulla politica dei tassi di cambio e sulla posizione esterna e la rappresentanza della Comunità (articolo 109 del trattato) 7) Il Consiglio europeo riconosce la responsabilità che incomberà alla Comunità con l'introduzione dell'euro, una delle valute più importanti nel sistema monetario mondiale. Il contributo della Comunità attraverso il SEBC, nel rigoroso rispetto delle procedure e della ripartizione dei poteri stabilite dal trattato, sarà quello di creare un centro di stabilità dei prezzi. Da parte sua il Consiglio europeo è determinato a svolgere pienamente il suo ruolo contribuendo a costruire le fondamenta di un'economia prospera ed efficiente nella Comunità, secondo il principio di un'economia aperta e in libera concorrenza, che agevoli un'efficiente distribuzione delle risorse, nel rispetto dei principi di cui all'articolo 3 A del trattato. Il Consiglio europeo è convinto che ciò costituirà la base di una moneta forte e rispettata.8) Il Consiglio sorveglierà l'evoluzione del tasso di cambio dell'euro alla luce di un'ampia gamma di dati economici; la Commissione dovrebbe presentare analisi al Consiglio e il Comitato economico e finanziario preparare i lavori del Consiglio. È importante fare pienamente ricorso alle disposizioni del trattato per assicurare lo scambio di informazioni e opinioni tra il Consiglio e la BCE sul tasso di cambio dell'euro. Pur considerando, in generale, i tassi di cambio come il risultato di tutte le altre politiche economiche, il Consiglio, in situazioni eccezionali, per esempio in caso di disallineamento evidente, può nondimeno formulare orientamenti generali di politica dei tassi di cambio in merito a valute non comunitarie, a norma dell'articolo 109, paragrafo 2, del trattato. Detti orientamenti generali dovrebbero sempre rispettare l'indipendenza del SEBC ed essere coerenti con il suo obiettivo prioritario di mantenere la stabilità dei prezzi.9) Il Consiglio dovrebbe decidere in merito alla posizione della Comunità a livello internazionale per quanto riguarda questioni di particolare importanza per l'unione economica e monetaria, a norma dell'articolo 109, paragrafo 4, del trattato. Tali decisioni riguarderanno le posizioni sia nelle relazioni bilaterali tra l'Unione europea con i paesi terzi sia nelle assise che si svolgono nell'ambito di organizzazioni internazionali o di gruppi informali degli Stati. La portata di questa disposizione è necessariamente limitata, in quanto solo gli Stati membri partecipanti all'area dell'euro hanno diritto di voto a norma dell'articolo 109.10) Il Consiglio e la Banca centrale europea svolgeranno il proprio compito nell'ambito della rappresentanza della Comunità a livello internazionale in modo efficiente e nel rispetto della ripartizione dei poteri prevista dal trattato. Per quanto riguarda le politiche economiche diverse da quella monetaria e dei tassi di cambio, gli Stati membri dovrebbero continuare a presentare le proprie politiche al di fuori del quadro comunitario, tenendo nel contempo pienamente conto dell'interesse della Comunità. La Commissione sarà associata alla rappresentanza esterna nella misura necessaria per svolgere il ruolo assegnatole dal trattato.La rappresentanza nelle organizzazioni internazionali dovrebbe tenere conto delle regole di queste. Per quanto riguarda, in particolare, le relazioni della Comunità con il Fondo monetario internazionale (FMI), esse dovrebbero basarsi sulla disposizione dello statuto del Fondo per la quale solo gli Stati possono essere membri di tale istituzione. Gli Stati membri, in quanto membri del FMI, dovrebbero contribuire a definire intese pragmatiche al fine di agevolare lo svolgimento della sorveglianza del FMI e la presentazione delle posizioni della Comunità, incluse le opinioni del SEBC, negli organi del Fondo.III. Dialogo tra il Consiglio e la BCE 11) Tenendo presente la ripartizione dei poteri prevista dal trattato, lo sviluppo economico armonioso della Comunità nella terza fase dell'UEM esigerà un continuo e proficuo dialogo tra il Consiglio e la BCE, che coinvolga la Commissione e rispetti, sotto ogni profilo, l'indipendenza del SEBC.12) Il Consiglio dovrebbe pertanto svolgere in pieno il proprio ruolo avvalendosi dei canali di comunicazione previsti dal trattato. Il presidente del Consiglio, sulla base di quanto disposto a suo riguardo dall'articolo 109 B del trattato, dovrebbe riferire al consiglio direttivo della BCE in merito alla valutazione della situazione economica dell'Unione effettuata dal Consiglio e alle politiche economiche degli Stati membri; egli potrebbe inoltre discutere con la BCE le opinioni del Consiglio sugli sviluppi e sulle prospettive per quanto riguarda i tassi di cambio. Il trattato prevede altresì che il presidente della BCE partecipi alle sessioni del Consiglio, ogniqualvolta siano discussi argomenti relativi agli obiettivi e ai compiti del SEBC, per esempio al momento dell'elaborazione degli indirizzi di massima per le politiche economiche. Rivestono altresì grande importanza le relazioni annuali che la BCE presenterà al Parlamento europeo, al Consiglio e alla Commissione, nonché al Consiglio europeo.Il Comitato economico e finanziario, che sarà composto di Alti funzionari delle banche centrali e della BCE nonché dei ministeri delle finanze nazionali, costituirà il quadro in cui il dialogo può essere preparato e sviluppato a livello di Alti funzionari.(1) La dichiarazione n. 3 del trattato sull'Unione europea afferma che, ai fini dell'applicazione delle disposizioni di cui al titolo VI, «Politica economica e monetaria», del trattato che istituisce la Comunità europea, continua a seguirsi la prassi consueta, che prevede la riunione del Consiglio nella sua composizione dei ministri dell'Economia e delle Finanze, fatte salve le disposizioni di cui all'articolo 109 J, paragrafi da 2 a 4, e all'articolo 109 K, paragrafo 2, del trattato.\\nFINE DOCUMENTO.\\nScrivi un dossier riassuntivo del documento. Scrivi in italiano, non scrivere in inglese. [/INST]Il documento riassuntivo descrive le disposizioni del trattato di Lussemburgo del 1997 che istituisce l'Unione europea e le politiche economiche relative. In particular, it mentions the creation of a center of stability of prices (tasso di cambio) and the responsibilities of the Consiglio europeo and the Banca centrale europea. It also mentions the coordination of economic policies between the member states and the potential interventions of the Consiglio in exceptional circumstances. Overall, the document highlights the importance of a coordinated economic policy within the Union to promote economic convergence and stability.\""
      ]
     },
     "execution_count": 23,
     "metadata": {},
     "output_type": "execute_result"
    }
   ],
   "source": [
    "tokenizer.decode(output.to('cpu')[0], skip_special_tokens=True)"
   ]
  },
  {
   "cell_type": "code",
   "execution_count": 14,
   "metadata": {},
   "outputs": [],
   "source": [
    "model_output = tokenizer.decode(output[0], skip_special_tokens=True)[len(eval_ds.select(ids)['input'][0]):]"
   ]
  },
  {
   "cell_type": "code",
   "execution_count": 15,
   "metadata": {},
   "outputs": [
    {
     "data": {
      "text/plain": [
       "{'rouge1': 0.06984866123399303,\n",
       " 'rouge2': 0.023337222870478413,\n",
       " 'rougeL': 0.05122235157159488,\n",
       " 'rougeLsum': 0.06752037252619326}"
      ]
     },
     "execution_count": 15,
     "metadata": {},
     "output_type": "execute_result"
    }
   ],
   "source": [
    "rouge = evaluate.load(\"rouge\")\n",
    "rouge.compute(predictions=[model_output], references=[eval_ds.select(ids)['output'][0]])"
   ]
  },
  {
   "cell_type": "code",
   "execution_count": 16,
   "metadata": {},
   "outputs": [
    {
     "data": {
      "application/vnd.jupyter.widget-view+json": {
       "model_id": "6bff59c9b3c3487ca12b73e530bf7fb3",
       "version_major": 2,
       "version_minor": 0
      },
      "text/plain": [
       "Downloading builder script:   0%|          | 0.00/5.94k [00:00<?, ?B/s]"
      ]
     },
     "metadata": {},
     "output_type": "display_data"
    },
    {
     "data": {
      "application/vnd.jupyter.widget-view+json": {
       "model_id": "c4265a54e9174dcf962a8e7ba31042cf",
       "version_major": 2,
       "version_minor": 0
      },
      "text/plain": [
       "Downloading extra modules:   0%|          | 0.00/1.55k [00:00<?, ?B/s]"
      ]
     },
     "metadata": {},
     "output_type": "display_data"
    },
    {
     "data": {
      "application/vnd.jupyter.widget-view+json": {
       "model_id": "9834c1c4290947dfa22b7501d409a1c1",
       "version_major": 2,
       "version_minor": 0
      },
      "text/plain": [
       "Downloading extra modules:   0%|          | 0.00/3.34k [00:00<?, ?B/s]"
      ]
     },
     "metadata": {},
     "output_type": "display_data"
    },
    {
     "data": {
      "text/plain": [
       "{'bleu': 0.0,\n",
       " 'precisions': [0.35353535353535354,\n",
       "  0.11224489795918367,\n",
       "  0.030927835051546393,\n",
       "  0.0],\n",
       " 'brevity_penalty': 0.0007836757937541202,\n",
       " 'length_ratio': 0.12267657992565056,\n",
       " 'translation_length': 99,\n",
       " 'reference_length': 807}"
      ]
     },
     "execution_count": 16,
     "metadata": {},
     "output_type": "execute_result"
    }
   ],
   "source": [
    "bleu = evaluate.load(\"bleu\")\n",
    "bleu.compute(predictions=[model_output], references=[eval_ds.select(ids)['output'][0]])"
   ]
  },
  {
   "cell_type": "code",
   "execution_count": 129,
   "metadata": {},
   "outputs": [
    {
     "ename": "ValueError",
     "evalue": "Predictions and/or references don't match the expected format.\nExpected format:\nFeature option 0: {'predictions': Value(dtype='string', id='sequence'), 'references': Sequence(feature=Value(dtype='string', id='sequence'), length=-1, id=None)}\nFeature option 1: {'predictions': Value(dtype='string', id='sequence'), 'references': Value(dtype='string', id='sequence')},\nInput predictions: [0, 1, 1, 0],\nInput references: [0, 1, 0, 1]",
     "output_type": "error",
     "traceback": [
      "\u001b[0;31m---------------------------------------------------------------------------\u001b[0m",
      "\u001b[0;31mValueError\u001b[0m                                Traceback (most recent call last)",
      "\u001b[1;32m/home/gmacri/tirocinioCameraSummarization/LongLora_fork/LongLoRA/myEvalTests.ipynb Cell 15\u001b[0m line \u001b[0;36m1\n\u001b[0;32m----> <a href='vscode-notebook-cell://ssh-remote%2Bailabdonatello/home/gmacri/tirocinioCameraSummarization/LongLora_fork/LongLoRA/myEvalTests.ipynb#X63sdnNjb2RlLXJlbW90ZQ%3D%3D?line=0'>1</a>\u001b[0m rouge\u001b[39m.\u001b[39;49mcompute(predictions\u001b[39m=\u001b[39;49m[[\u001b[39m0\u001b[39;49m, \u001b[39m1\u001b[39;49m, \u001b[39m1\u001b[39;49m, \u001b[39m0\u001b[39;49m]], references\u001b[39m=\u001b[39;49m[[\u001b[39m0\u001b[39;49m, \u001b[39m1\u001b[39;49m, \u001b[39m0\u001b[39;49m, \u001b[39m1\u001b[39;49m]])\n",
      "File \u001b[0;32m~/miniconda3/lib/python3.11/site-packages/evaluate/module.py:450\u001b[0m, in \u001b[0;36mEvaluationModule.compute\u001b[0;34m(self, predictions, references, **kwargs)\u001b[0m\n\u001b[1;32m    447\u001b[0m compute_kwargs \u001b[39m=\u001b[39m {k: kwargs[k] \u001b[39mfor\u001b[39;00m k \u001b[39min\u001b[39;00m kwargs \u001b[39mif\u001b[39;00m k \u001b[39mnot\u001b[39;00m \u001b[39min\u001b[39;00m \u001b[39mself\u001b[39m\u001b[39m.\u001b[39m_feature_names()}\n\u001b[1;32m    449\u001b[0m \u001b[39mif\u001b[39;00m \u001b[39many\u001b[39m(v \u001b[39mis\u001b[39;00m \u001b[39mnot\u001b[39;00m \u001b[39mNone\u001b[39;00m \u001b[39mfor\u001b[39;00m v \u001b[39min\u001b[39;00m inputs\u001b[39m.\u001b[39mvalues()):\n\u001b[0;32m--> 450\u001b[0m     \u001b[39mself\u001b[39;49m\u001b[39m.\u001b[39;49madd_batch(\u001b[39m*\u001b[39;49m\u001b[39m*\u001b[39;49minputs)\n\u001b[1;32m    451\u001b[0m \u001b[39mself\u001b[39m\u001b[39m.\u001b[39m_finalize()\n\u001b[1;32m    453\u001b[0m \u001b[39mself\u001b[39m\u001b[39m.\u001b[39mcache_file_name \u001b[39m=\u001b[39m \u001b[39mNone\u001b[39;00m\n",
      "File \u001b[0;32m~/miniconda3/lib/python3.11/site-packages/evaluate/module.py:509\u001b[0m, in \u001b[0;36mEvaluationModule.add_batch\u001b[0;34m(self, predictions, references, **kwargs)\u001b[0m\n\u001b[1;32m    507\u001b[0m batch \u001b[39m=\u001b[39m {input_name: batch[input_name] \u001b[39mfor\u001b[39;00m input_name \u001b[39min\u001b[39;00m \u001b[39mself\u001b[39m\u001b[39m.\u001b[39m_feature_names()}\n\u001b[1;32m    508\u001b[0m \u001b[39mif\u001b[39;00m \u001b[39mself\u001b[39m\u001b[39m.\u001b[39mwriter \u001b[39mis\u001b[39;00m \u001b[39mNone\u001b[39;00m:\n\u001b[0;32m--> 509\u001b[0m     \u001b[39mself\u001b[39m\u001b[39m.\u001b[39mselected_feature_format \u001b[39m=\u001b[39m \u001b[39mself\u001b[39;49m\u001b[39m.\u001b[39;49m_infer_feature_from_batch(batch)\n\u001b[1;32m    510\u001b[0m     \u001b[39mself\u001b[39m\u001b[39m.\u001b[39m_init_writer()\n\u001b[1;32m    511\u001b[0m \u001b[39mtry\u001b[39;00m:\n",
      "File \u001b[0;32m~/miniconda3/lib/python3.11/site-packages/evaluate/module.py:591\u001b[0m, in \u001b[0;36mEvaluationModule._infer_feature_from_batch\u001b[0;34m(self, batch)\u001b[0m\n\u001b[1;32m    589\u001b[0m \u001b[39melse\u001b[39;00m:\n\u001b[1;32m    590\u001b[0m     example \u001b[39m=\u001b[39m \u001b[39mdict\u001b[39m([(k, v[\u001b[39m0\u001b[39m]) \u001b[39mfor\u001b[39;00m k, v \u001b[39min\u001b[39;00m batch\u001b[39m.\u001b[39mitems()])\n\u001b[0;32m--> 591\u001b[0m     \u001b[39mreturn\u001b[39;00m \u001b[39mself\u001b[39;49m\u001b[39m.\u001b[39;49m_infer_feature_from_example(example)\n",
      "File \u001b[0;32m~/miniconda3/lib/python3.11/site-packages/evaluate/module.py:611\u001b[0m, in \u001b[0;36mEvaluationModule._infer_feature_from_example\u001b[0;34m(self, example)\u001b[0m\n\u001b[1;32m    604\u001b[0m feature_strings \u001b[39m=\u001b[39m \u001b[39m\"\u001b[39m\u001b[39m\\n\u001b[39;00m\u001b[39m\"\u001b[39m\u001b[39m.\u001b[39mjoin([\u001b[39mf\u001b[39m\u001b[39m\"\u001b[39m\u001b[39mFeature option \u001b[39m\u001b[39m{\u001b[39;00mi\u001b[39m}\u001b[39;00m\u001b[39m: \u001b[39m\u001b[39m{\u001b[39;00mfeature\u001b[39m}\u001b[39;00m\u001b[39m\"\u001b[39m \u001b[39mfor\u001b[39;00m i, feature \u001b[39min\u001b[39;00m \u001b[39menumerate\u001b[39m(\u001b[39mself\u001b[39m\u001b[39m.\u001b[39mfeatures)])\n\u001b[1;32m    605\u001b[0m error_msg \u001b[39m=\u001b[39m (\n\u001b[1;32m    606\u001b[0m     \u001b[39mf\u001b[39m\u001b[39m\"\u001b[39m\u001b[39mPredictions and/or references don\u001b[39m\u001b[39m'\u001b[39m\u001b[39mt match the expected format.\u001b[39m\u001b[39m\\n\u001b[39;00m\u001b[39m\"\u001b[39m\n\u001b[1;32m    607\u001b[0m     \u001b[39mf\u001b[39m\u001b[39m\"\u001b[39m\u001b[39mExpected format:\u001b[39m\u001b[39m\\n\u001b[39;00m\u001b[39m{\u001b[39;00mfeature_strings\u001b[39m}\u001b[39;00m\u001b[39m,\u001b[39m\u001b[39m\\n\u001b[39;00m\u001b[39m\"\u001b[39m\n\u001b[1;32m    608\u001b[0m     \u001b[39mf\u001b[39m\u001b[39m\"\u001b[39m\u001b[39mInput predictions: \u001b[39m\u001b[39m{\u001b[39;00msummarize_if_long_list(example[\u001b[39m'\u001b[39m\u001b[39mpredictions\u001b[39m\u001b[39m'\u001b[39m])\u001b[39m}\u001b[39;00m\u001b[39m,\u001b[39m\u001b[39m\\n\u001b[39;00m\u001b[39m\"\u001b[39m\n\u001b[1;32m    609\u001b[0m     \u001b[39mf\u001b[39m\u001b[39m\"\u001b[39m\u001b[39mInput references: \u001b[39m\u001b[39m{\u001b[39;00msummarize_if_long_list(example[\u001b[39m'\u001b[39m\u001b[39mreferences\u001b[39m\u001b[39m'\u001b[39m])\u001b[39m}\u001b[39;00m\u001b[39m\"\u001b[39m\n\u001b[1;32m    610\u001b[0m )\n\u001b[0;32m--> 611\u001b[0m \u001b[39mraise\u001b[39;00m \u001b[39mValueError\u001b[39;00m(error_msg) \u001b[39mfrom\u001b[39;00m \u001b[39mNone\u001b[39;00m\n",
      "\u001b[0;31mValueError\u001b[0m: Predictions and/or references don't match the expected format.\nExpected format:\nFeature option 0: {'predictions': Value(dtype='string', id='sequence'), 'references': Sequence(feature=Value(dtype='string', id='sequence'), length=-1, id=None)}\nFeature option 1: {'predictions': Value(dtype='string', id='sequence'), 'references': Value(dtype='string', id='sequence')},\nInput predictions: [0, 1, 1, 0],\nInput references: [0, 1, 0, 1]"
     ]
    }
   ],
   "source": [
    "rouge.compute(predictions=[[0, 1, 1, 0]], references=[[0, 1, 0, 1]])"
   ]
  },
  {
   "cell_type": "code",
   "execution_count": null,
   "metadata": {},
   "outputs": [],
   "source": [
    "for i in range(0, len(eval_ds), batch_size):\n",
    "\n",
    "    ids = [id for id in range(i, i+batch_size)]\n",
    "\n",
    "    inputs = tokenizer(eval_ds.select(ids)['input'], return_tensors=\"pt\").to(model.device)\n",
    "\n",
    "    output = model.generate(\n",
    "        **inputs,\n",
    "        max_new_tokens=8192,\n",
    "        temperature=0.6,\n",
    "        top_p=0.9\n",
    "    )\n",
    "\n",
    "    out = tokenizer.decode(output[0], skip_special_tokens=True)\n",
    "\n",
    "    ## remove prompt (I think)\n",
    "\n",
    "    # evaluate metrics (perplexity, loss, accuracy, rouge,...)\n"
   ]
  }
 ],
 "metadata": {
  "kernelspec": {
   "display_name": "base",
   "language": "python",
   "name": "python3"
  },
  "language_info": {
   "codemirror_mode": {
    "name": "ipython",
    "version": 3
   },
   "file_extension": ".py",
   "mimetype": "text/x-python",
   "name": "python",
   "nbconvert_exporter": "python",
   "pygments_lexer": "ipython3",
   "version": "3.11.5"
  }
 },
 "nbformat": 4,
 "nbformat_minor": 2
}
